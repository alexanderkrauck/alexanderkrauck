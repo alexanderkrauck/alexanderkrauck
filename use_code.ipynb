{
 "cells": [
  {
   "cell_type": "code",
   "execution_count": 1,
   "id": "ba9f3c4f",
   "metadata": {},
   "outputs": [],
   "source": [
    "import yaml\n",
    "\n",
    "with open('prompt_placeholders.yaml', 'r') as file:\n",
    "    prompt_placeholders = yaml.safe_load(file)\n",
    "    \n",
    "    \n"
   ]
  },
  {
   "cell_type": "markdown",
   "id": "e64bfc6e",
   "metadata": {},
   "source": [
    "## First (smart) Select the Lead Followings"
   ]
  },
  {
   "cell_type": "code",
   "execution_count": 2,
   "id": "c9ff7be2",
   "metadata": {},
   "outputs": [
    {
     "name": "stderr",
     "output_type": "stream",
     "text": [
      "2025-05-21 22:11:29,774 INFO Processing 5 Instagram handles …\n",
      "2025-05-21 22:11:30,541 INFO HTTP Request: POST https://api.apify.com/v2/acts/apify~instagram-profile-scraper/runs?timeout=1200 \"HTTP/1.1 201 Created\"\n",
      "2025-05-21 22:11:31,686 INFO HTTP Request: GET https://api.apify.com/v2/actor-runs/NC9f97SlaJWOniksY?waitForFinish=999999 \"HTTP/1.1 200 OK\"\n",
      "2025-05-21 22:11:43,863 INFO HTTP Request: GET https://api.apify.com/v2/datasets/Kl5KYYEp01escpkxL/items?offset=0&limit=1000 \"HTTP/1.1 200 OK\"\n",
      "2025-05-21 22:11:44,105 INFO Scoring @naturealimmobilien\n",
      "2025-05-21 22:11:47,054 INFO HTTP Request: POST https://api.openai.com/v1/chat/completions \"HTTP/1.1 200 OK\"\n",
      "2025-05-21 22:11:47,064 INFO  → @naturealimmobilien    score 4\n",
      "2025-05-21 22:11:47,568 INFO Scoring @austriasothebysrealty\n",
      "2025-05-21 22:11:50,284 INFO HTTP Request: POST https://api.openai.com/v1/chat/completions \"HTTP/1.1 200 OK\"\n",
      "2025-05-21 22:11:50,288 INFO  → @austriasothebysrealty  score 4\n",
      "2025-05-21 22:11:50,792 INFO Scoring @patriziamilani_me\n",
      "2025-05-21 22:11:53,135 INFO HTTP Request: POST https://api.openai.com/v1/chat/completions \"HTTP/1.1 200 OK\"\n",
      "2025-05-21 22:11:53,148 INFO  → @patriziamilani_me     score 3\n",
      "2025-05-21 22:11:53,650 INFO Scoring @obermair_immobilien\n",
      "2025-05-21 22:11:55,495 INFO HTTP Request: POST https://api.openai.com/v1/chat/completions \"HTTP/1.1 200 OK\"\n",
      "2025-05-21 22:11:55,498 INFO  → @obermair_immobilien   score 4\n",
      "2025-05-21 22:11:56,002 INFO Scoring @teamwohnwerk\n",
      "2025-05-21 22:11:57,642 INFO HTTP Request: POST https://api.openai.com/v1/chat/completions \"HTTP/1.1 200 OK\"\n",
      "2025-05-21 22:11:57,643 INFO  → @teamwohnwerk          score 5\n",
      "2025-05-21 22:11:58,152 INFO Scoring complete. Found 4 usable handles.\n",
      "2025-05-21 22:11:58,154 INFO Saved results → /Users/alexanderkrauck/Coding/InfiniLead/leads_scored.csv\n"
     ]
    },
    {
     "name": "stdout",
     "output_type": "stream",
     "text": [
      "                username  score\n",
      "0           teamwohnwerk      5\n",
      "1     naturealimmobilien      4\n",
      "2  austriasothebysrealty      4\n",
      "3    obermair_immobilien      4\n"
     ]
    }
   ],
   "source": [
    "from enriching_leads import score_leads\n",
    "\n",
    "df = score_leads(\n",
    "    target_desc=prompt_placeholders['TARGET_AUDIENCE_FOLLOWING_DESCRIPTION'],\n",
    "    target_examples=prompt_placeholders['TARGET_AUDIENCE_FOLLOWING_EXAMPLES'],\n",
    "    use_perplexity=False,\n",
    "    csv_in=\"leads.csv\",\n",
    "    csv_out=\"leads_scored.csv\",\n",
    "    max_handles=5,\n",
    "    min_filter_score=4\n",
    ")\n",
    "\n",
    "print(df[['username','score']].head())\n"
   ]
  },
  {
   "cell_type": "code",
   "execution_count": 3,
   "id": "51350457",
   "metadata": {},
   "outputs": [
    {
     "data": {
      "application/vnd.microsoft.datawrangler.viewer.v0+json": {
       "columns": [
        {
         "name": "index",
         "rawType": "int64",
         "type": "integer"
        },
        {
         "name": "username",
         "rawType": "object",
         "type": "string"
        },
        {
         "name": "score",
         "rawType": "int64",
         "type": "integer"
        },
        {
         "name": "reasoning",
         "rawType": "object",
         "type": "string"
        },
        {
         "name": "enrichment",
         "rawType": "object",
         "type": "string"
        }
       ],
       "ref": "e65a84e9-1371-4d65-a2fd-fbac3be2cf73",
       "rows": [
        [
         "0",
         "teamwohnwerk",
         "5",
         "The Instagram account @teamwohnwerk focuses on real estate listings in Graz, specifically offering properties for sale, which aligns with the target audience's interest in Austrian property listings. The account also emphasizes quality living and modern design, appealing to architecture inspiration. Given that the account is situated in Styria and actively promotes regional properties, it fits well within the specified criteria.\n\n##Score 5",
         ""
        ],
        [
         "1",
         "naturealimmobilien",
         "4",
         "The Instagram account @naturealimmobilien focuses primarily on property listings, showcasing various real estate offerings in Austria. The posts highlight specific properties for sale, including penthouses, houses, and apartments, which aligns well with the target audience interested in Austrian property listings. However, there is no mention of architecture inspiration, financing advice, or Styrian lifestyle content, which limits its appeal to the broader audience described in the target. The presence of relevant hashtags and a professional approach indicates a solid foundation, but the lack of diversity in content is a drawback.\n\n##Score 4",
         ""
        ],
        [
         "2",
         "austriasothebysrealty",
         "4",
         "The Instagram account @austriasothebysrealty primarily focuses on luxury real estate listings and high-end properties in Austria, which aligns well with the target audience interested in Austrian property listings. Additionally, the account promotes lifestyle elements associated with luxury living, which can attract those interested in architecture and high-end living experiences in Austria. However, it does not specifically cater to financing advice or local Styrian lifestyle content, which could be considered important factors for the target audience.\n\nOverall, while it fits a part of the target audience through its luxury property listings, it lacks broader coverage of the Styrian lifestyle or financing advice.\n\n##Score 4",
         ""
        ],
        [
         "3",
         "obermair_immobilien",
         "4",
         "The Instagram account @obermair_immobilien focuses on property listings, architecture, and high-quality design in the Austrian real estate market, particularly in Steyr and nearby areas. Their content highlights finished residential projects, architecture design, and also promotes lifestyle aspects associated with their properties, which aligns perfectly with the target audience interested in Austrian property listings and architectural inspiration. However, the account does not seem to provide financing advice or broader Styrian lifestyle content, which may limit its appeal slightly.\n\n##Score 4",
         ""
        ]
       ],
       "shape": {
        "columns": 4,
        "rows": 4
       }
      },
      "text/html": [
       "<div>\n",
       "<style scoped>\n",
       "    .dataframe tbody tr th:only-of-type {\n",
       "        vertical-align: middle;\n",
       "    }\n",
       "\n",
       "    .dataframe tbody tr th {\n",
       "        vertical-align: top;\n",
       "    }\n",
       "\n",
       "    .dataframe thead th {\n",
       "        text-align: right;\n",
       "    }\n",
       "</style>\n",
       "<table border=\"1\" class=\"dataframe\">\n",
       "  <thead>\n",
       "    <tr style=\"text-align: right;\">\n",
       "      <th></th>\n",
       "      <th>username</th>\n",
       "      <th>score</th>\n",
       "      <th>reasoning</th>\n",
       "      <th>enrichment</th>\n",
       "    </tr>\n",
       "  </thead>\n",
       "  <tbody>\n",
       "    <tr>\n",
       "      <th>0</th>\n",
       "      <td>teamwohnwerk</td>\n",
       "      <td>5</td>\n",
       "      <td>The Instagram account @teamwohnwerk focuses on...</td>\n",
       "      <td></td>\n",
       "    </tr>\n",
       "    <tr>\n",
       "      <th>1</th>\n",
       "      <td>naturealimmobilien</td>\n",
       "      <td>4</td>\n",
       "      <td>The Instagram account @naturealimmobilien focu...</td>\n",
       "      <td></td>\n",
       "    </tr>\n",
       "    <tr>\n",
       "      <th>2</th>\n",
       "      <td>austriasothebysrealty</td>\n",
       "      <td>4</td>\n",
       "      <td>The Instagram account @austriasothebysrealty p...</td>\n",
       "      <td></td>\n",
       "    </tr>\n",
       "    <tr>\n",
       "      <th>3</th>\n",
       "      <td>obermair_immobilien</td>\n",
       "      <td>4</td>\n",
       "      <td>The Instagram account @obermair_immobilien foc...</td>\n",
       "      <td></td>\n",
       "    </tr>\n",
       "  </tbody>\n",
       "</table>\n",
       "</div>"
      ],
      "text/plain": [
       "                username  score  \\\n",
       "0           teamwohnwerk      5   \n",
       "1     naturealimmobilien      4   \n",
       "2  austriasothebysrealty      4   \n",
       "3    obermair_immobilien      4   \n",
       "\n",
       "                                           reasoning enrichment  \n",
       "0  The Instagram account @teamwohnwerk focuses on...             \n",
       "1  The Instagram account @naturealimmobilien focu...             \n",
       "2  The Instagram account @austriasothebysrealty p...             \n",
       "3  The Instagram account @obermair_immobilien foc...             "
      ]
     },
     "execution_count": 3,
     "metadata": {},
     "output_type": "execute_result"
    }
   ],
   "source": [
    "df"
   ]
  },
  {
   "cell_type": "code",
   "execution_count": null,
   "id": "45c1255b",
   "metadata": {},
   "outputs": [],
   "source": []
  }
 ],
 "metadata": {
  "kernelspec": {
   "display_name": ".venv",
   "language": "python",
   "name": "python3"
  },
  "language_info": {
   "codemirror_mode": {
    "name": "ipython",
    "version": 3
   },
   "file_extension": ".py",
   "mimetype": "text/x-python",
   "name": "python",
   "nbconvert_exporter": "python",
   "pygments_lexer": "ipython3",
   "version": "3.10.0"
  }
 },
 "nbformat": 4,
 "nbformat_minor": 5
}
