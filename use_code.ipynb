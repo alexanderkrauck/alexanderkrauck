{
 "cells": [
  {
   "cell_type": "code",
   "execution_count": 1,
   "id": "ba9f3c4f",
   "metadata": {},
   "outputs": [],
   "source": [
    "import yaml\n",
    "\n",
    "with open('prompt_placeholders.yaml', 'r') as file:\n",
    "    prompt_placeholders = yaml.safe_load(file)\n",
    "    \n",
    "    \n"
   ]
  },
  {
   "cell_type": "markdown",
   "id": "e64bfc6e",
   "metadata": {},
   "source": [
    "## First (smart) Select the Lead Followings"
   ]
  },
  {
   "cell_type": "code",
   "execution_count": null,
   "id": "c9ff7be2",
   "metadata": {},
   "outputs": [
    {
     "name": "stderr",
     "output_type": "stream",
     "text": [
      "Processing leads:  16%|█▌        | 282/1743 [03:11<04:41,  5.18it/s]  "
     ]
    }
   ],
   "source": [
    "from enriching_leads import score_leads\n",
    "\n",
    "df = score_leads(\n",
    "    target_desc=prompt_placeholders['TARGET_AUDIENCE_FOLLOWING_DESCRIPTION'],\n",
    "    target_examples=prompt_placeholders['TARGET_AUDIENCE_FOLLOWING_EXAMPLES'],\n",
    "    use_perplexity=False,\n",
    "    csv_in=\"leads.csv\",\n",
    "    csv_out=\"leads_scored.csv\",\n",
    "    max_handles=10000,\n",
    "    min_filter_score=3\n",
    ")\n",
    "\n",
    "print(df[['username','score']].head())\n"
   ]
  },
  {
   "cell_type": "code",
   "execution_count": null,
   "id": "51350457",
   "metadata": {},
   "outputs": [
    {
     "data": {
      "application/vnd.microsoft.datawrangler.viewer.v0+json": {
       "columns": [
        {
         "name": "index",
         "rawType": "int64",
         "type": "integer"
        },
        {
         "name": "username",
         "rawType": "object",
         "type": "string"
        },
        {
         "name": "score",
         "rawType": "int64",
         "type": "integer"
        },
        {
         "name": "reasoning",
         "rawType": "object",
         "type": "string"
        },
        {
         "name": "enrichment",
         "rawType": "object",
         "type": "string"
        }
       ],
       "ref": "c7cf8c45-d014-4255-8efd-1de0f83dd718",
       "rows": [
        [
         "0",
         "anderlage_apartments",
         "5",
         "The Instagram account @anderlage_apartments focuses on holiday apartments located in the South Styrian region, promoting investment opportunities and offering a lifestyle appeal tied to local attractions such as wine and scenic views. The account aligns with the target audience by showcasing property listings and lifestyle content that would attract individuals interested in Austrian real estate and vacation experiences in Styria.\n\n##Score 5",
         ""
        ],
        [
         "1",
         "austriasothebysrealty",
         "4",
         "The account @austriasothebysrealty focuses on luxury real estate listings in Austria, showcasing unique properties and high-end lifestyle content. While it aligns with the target audience interested in Austrian property listings, it primarily emphasizes luxury real estate, which may not appeal to the broader market interested in all types of properties, including affordable options or regional lifestyle content. The focus on exclusivity may also deter a segment of the target audience seeking more accessible property and financing information. However, it still fits within the realm of Austrian property listings and related architecture inspiration.\n\n##Score 4",
         ""
        ],
        [
         "2",
         "teamneunzehn.at",
         "4",
         "The Instagram account @teamneunzehn.at focuses on property management and real estate, which aligns with the target audience interested in Austrian property listings. The posts emphasize living spaces and emotional connections to homes, fitting well within the themes of architecture inspiration and lifestyle content. However, there is no specific mention of Styrian content or financing advice, which slightly limits its relevance. Overall, it fits the target audience fairly well as it revolves around real estate but lacks a broader lifestyle or financial aspect.\n\n##Score 4",
         ""
        ],
        [
         "3",
         "obermair_immobilien",
         "5",
         "The Instagram account \"obermair_immobilien\" focuses on real estate development and listings, particularly highlighting properties and architectural projects in Austria. The content aligns well with the target audience of Austrian property listings and architecture inspiration. Moreover, it showcases specific projects, which could attract potential buyers and those interested in contemporary Austrian architecture. The account also promotes a lifestyle aspect by emphasizing design elements in their properties.\n\n##Score 5",
         ""
        ],
        [
         "4",
         "naturealimmobilien",
         "4",
         "The Instagram account @naturealimmobilien focuses on Austrian property listings, specifically highlighting high-quality real estate available for sale. The posts emphasize various properties, including penthouses and houses, aligning well with the target audience of property seekers and real estate enthusiasts in Austria. However, the account does not explicitly include architecture inspiration, financing advice, or lifestyle content specific to Styria. Thus, while it fits the primary category of property listings, it lacks additional content that may attract a broader segment of the specified target audience.\n\n##Score 4",
         ""
        ],
        [
         "5",
         "teamwohnwerk",
         "5",
         "The Instagram account @teamwohnwerk focuses on real estate in Graz, specifically offering property listings that include details about modern apartments and houses. The use of hashtags like #immobilien and #austria indicates a strong connection to the Austrian property market. Additionally, the account emphasizes local listings and provides comprehensive details about properties, catering to an audience interested in real estate in Austria, particularly in Styria.\n\nGiven that the account aligns well with the target audience of property listings, architecture inspiration, and Styrian lifestyle content, I would assess it positively.\n\n##Score 5",
         ""
        ],
        [
         "7",
         "tim_heissenberger",
         "5",
         "The Instagram account @tim_heissenberger appears to be focused on real estate, specifically in Austria, with a strong emphasis on luxury listings and properties in various locations such as Vienna and Graz. The biography clearly states their business involvement in the real estate sector, and their posts frequently use relevant hashtags related to property and living in Austria. The content of the captions includes property listings and lifestyle elements that resonate with the target audience interested in Austrian property listings, architecture inspiration, and lifestyle content.\n\n##Score 5",
         ""
        ],
        [
         "8",
         "patriziamilani_me",
         "3",
         "The Instagram account of Patrizia Milani primarily focuses on real estate in Istra and Styria, which aligns with the target audience's interest in Austrian property listings. However, the content also includes elements related to fashion and personal lifestyle, which may dilute its focus on real estate. The account appears to cater to several markets (Istra, Styria, and Dubai), but there is no clear emphasis solely on Austrian properties or Styrian lifestyle content. \n\nOverall, while the account has relevant aspects, it does not entirely focus on the specific target audience outlined, particularly in the context of Austrian properties and lifestyle.\n\n##Score 3",
         ""
        ],
        [
         "9",
         "krreal.gmbh",
         "4",
         "The Instagram account @krreal.gmbh focuses on real estate, specifically offering property listings in the Styrian region (as indicated by their content about a rental townhouse and their location in Schladming). They also present a professional image of their real estate team, which aligns with the target audience's interest in property listings and financing advice. However, the account does not explicitly mention architecture inspiration or broader Styrian lifestyle content, which slightly limits its fit for the complete target audience profile. Thus, while it is relevant, it might not cover all aspects of the target audience.\n\n##Score 4",
         ""
        ]
       ],
       "shape": {
        "columns": 4,
        "rows": 9
       }
      },
      "text/html": [
       "<div>\n",
       "<style scoped>\n",
       "    .dataframe tbody tr th:only-of-type {\n",
       "        vertical-align: middle;\n",
       "    }\n",
       "\n",
       "    .dataframe tbody tr th {\n",
       "        vertical-align: top;\n",
       "    }\n",
       "\n",
       "    .dataframe thead th {\n",
       "        text-align: right;\n",
       "    }\n",
       "</style>\n",
       "<table border=\"1\" class=\"dataframe\">\n",
       "  <thead>\n",
       "    <tr style=\"text-align: right;\">\n",
       "      <th></th>\n",
       "      <th>username</th>\n",
       "      <th>score</th>\n",
       "      <th>reasoning</th>\n",
       "      <th>enrichment</th>\n",
       "    </tr>\n",
       "  </thead>\n",
       "  <tbody>\n",
       "    <tr>\n",
       "      <th>0</th>\n",
       "      <td>anderlage_apartments</td>\n",
       "      <td>5</td>\n",
       "      <td>The Instagram account @anderlage_apartments fo...</td>\n",
       "      <td></td>\n",
       "    </tr>\n",
       "    <tr>\n",
       "      <th>1</th>\n",
       "      <td>austriasothebysrealty</td>\n",
       "      <td>4</td>\n",
       "      <td>The account @austriasothebysrealty focuses on ...</td>\n",
       "      <td></td>\n",
       "    </tr>\n",
       "    <tr>\n",
       "      <th>2</th>\n",
       "      <td>teamneunzehn.at</td>\n",
       "      <td>4</td>\n",
       "      <td>The Instagram account @teamneunzehn.at focuses...</td>\n",
       "      <td></td>\n",
       "    </tr>\n",
       "    <tr>\n",
       "      <th>3</th>\n",
       "      <td>obermair_immobilien</td>\n",
       "      <td>5</td>\n",
       "      <td>The Instagram account \"obermair_immobilien\" fo...</td>\n",
       "      <td></td>\n",
       "    </tr>\n",
       "    <tr>\n",
       "      <th>4</th>\n",
       "      <td>naturealimmobilien</td>\n",
       "      <td>4</td>\n",
       "      <td>The Instagram account @naturealimmobilien focu...</td>\n",
       "      <td></td>\n",
       "    </tr>\n",
       "    <tr>\n",
       "      <th>5</th>\n",
       "      <td>teamwohnwerk</td>\n",
       "      <td>5</td>\n",
       "      <td>The Instagram account @teamwohnwerk focuses on...</td>\n",
       "      <td></td>\n",
       "    </tr>\n",
       "    <tr>\n",
       "      <th>7</th>\n",
       "      <td>tim_heissenberger</td>\n",
       "      <td>5</td>\n",
       "      <td>The Instagram account @tim_heissenberger appea...</td>\n",
       "      <td></td>\n",
       "    </tr>\n",
       "    <tr>\n",
       "      <th>8</th>\n",
       "      <td>patriziamilani_me</td>\n",
       "      <td>3</td>\n",
       "      <td>The Instagram account of Patrizia Milani prima...</td>\n",
       "      <td></td>\n",
       "    </tr>\n",
       "    <tr>\n",
       "      <th>9</th>\n",
       "      <td>krreal.gmbh</td>\n",
       "      <td>4</td>\n",
       "      <td>The Instagram account @krreal.gmbh focuses on ...</td>\n",
       "      <td></td>\n",
       "    </tr>\n",
       "  </tbody>\n",
       "</table>\n",
       "</div>"
      ],
      "text/plain": [
       "                username  score  \\\n",
       "0   anderlage_apartments      5   \n",
       "1  austriasothebysrealty      4   \n",
       "2        teamneunzehn.at      4   \n",
       "3    obermair_immobilien      5   \n",
       "4     naturealimmobilien      4   \n",
       "5           teamwohnwerk      5   \n",
       "7      tim_heissenberger      5   \n",
       "8      patriziamilani_me      3   \n",
       "9            krreal.gmbh      4   \n",
       "\n",
       "                                           reasoning enrichment  \n",
       "0  The Instagram account @anderlage_apartments fo...             \n",
       "1  The account @austriasothebysrealty focuses on ...             \n",
       "2  The Instagram account @teamneunzehn.at focuses...             \n",
       "3  The Instagram account \"obermair_immobilien\" fo...             \n",
       "4  The Instagram account @naturealimmobilien focu...             \n",
       "5  The Instagram account @teamwohnwerk focuses on...             \n",
       "7  The Instagram account @tim_heissenberger appea...             \n",
       "8  The Instagram account of Patrizia Milani prima...             \n",
       "9  The Instagram account @krreal.gmbh focuses on ...             "
      ]
     },
     "execution_count": 3,
     "metadata": {},
     "output_type": "execute_result"
    }
   ],
   "source": [
    "df"
   ]
  },
  {
   "cell_type": "code",
   "execution_count": null,
   "id": "45c1255b",
   "metadata": {},
   "outputs": [],
   "source": []
  }
 ],
 "metadata": {
  "kernelspec": {
   "display_name": ".venv",
   "language": "python",
   "name": "python3"
  },
  "language_info": {
   "codemirror_mode": {
    "name": "ipython",
    "version": 3
   },
   "file_extension": ".py",
   "mimetype": "text/x-python",
   "name": "python",
   "nbconvert_exporter": "python",
   "pygments_lexer": "ipython3",
   "version": "3.10.0"
  }
 },
 "nbformat": 4,
 "nbformat_minor": 5
}
